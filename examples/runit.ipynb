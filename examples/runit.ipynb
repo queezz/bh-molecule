{
 "cells": [
  {
   "cell_type": "code",
   "execution_count": null,
   "id": "bf07baad",
   "metadata": {},
   "outputs": [],
   "source": [
    "import scipy.constants as spc"
   ]
  },
  {
   "cell_type": "code",
   "execution_count": null,
   "id": "7def2e38",
   "metadata": {},
   "outputs": [],
   "source": [
    "import numpy as np\n",
    "import matplotlib.pyplot as plt\n",
    "from bh_spectra.dataio import load_v00_wavelengths\n",
    "from bh_spectra.physics import BHModel"
   ]
  },
  {
   "cell_type": "code",
   "execution_count": null,
   "id": "16b8c2a6",
   "metadata": {},
   "outputs": [],
   "source": [
    "v00 = load_v00_wavelengths()"
   ]
  },
  {
   "cell_type": "code",
   "execution_count": null,
   "id": "87eba2e3",
   "metadata": {},
   "outputs": [],
   "source": [
    "\n",
    "model = BHModel(v00)\n",
    "\n",
    "x = np.linspace(432.8, 434.2, 4000)  # nm\n",
    "y = model.full_fit_model(x, C=1.0, T_rot=2000, dx=0.0, w_inst=0.02, base=0.0, I_R7=0.5, I_R8=0.3)\n",
    "\n",
    "plt.figure()\n",
    "plt.plot(x, y)\n",
    "plt.xlabel(\"Wavelength (nm)\")\n",
    "plt.ylabel(\"Intensity (a.u.)\")\n",
    "plt.title(\"BH A–X near 433 nm (demo)\")\n",
    "plt.show()\n"
   ]
  }
 ],
 "metadata": {
  "kernelspec": {
   "display_name": ".venv (3.12.8)",
   "language": "python",
   "name": "python3"
  },
  "language_info": {
   "codemirror_mode": {
    "name": "ipython",
    "version": 3
   },
   "file_extension": ".py",
   "mimetype": "text/x-python",
   "name": "python",
   "nbconvert_exporter": "python",
   "pygments_lexer": "ipython3",
   "version": "3.12.8"
  }
 },
 "nbformat": 4,
 "nbformat_minor": 5
}
