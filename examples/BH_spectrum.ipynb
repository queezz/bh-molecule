{
 "cells": [
  {
   "cell_type": "code",
   "execution_count": 1,
   "metadata": {},
   "outputs": [],
   "source": [
    "import numpy as np\n",
    "import pandas as pd\n",
    "import math\n",
    "import matplotlib.pyplot as plt\n",
    "from scipy import constants\n",
    "\n",
    "plt.rcParams['xtick.direction'] = 'in'\n",
    "plt.rcParams['ytick.direction'] = 'in'"
   ]
  },
  {
   "cell_type": "markdown",
   "metadata": {},
   "source": [
    "<h4>X, A準位の振動回転エネルギー (cm^-1) (NIST Chemistry Webbook)</h4>"
   ]
  },
  {
   "cell_type": "code",
   "execution_count": 2,
   "metadata": {},
   "outputs": [],
   "source": [
    "def BH_ene_X(v, N):\n",
    "    # 分子定数 (NIST Chemistry webbook)\n",
    "    # Molecular constants (NIST Chemistry webbook)\n",
    "    T_e = 0\n",
    "    omega_e = 2366.9\n",
    "    omega_e_x_e = 49.39\n",
    "    omega_e_y_e = 0.364\n",
    "    B_e = 12.021\n",
    "    alpha_e = 0.412\n",
    "    D_e = 0.001242\n",
    "    beta_e = -0.000026\n",
    "    \n",
    "    B_v = B_e - alpha_e*(v + 1/2)\n",
    "    D_v = D_e - beta_e*(v + 1/2)\n",
    "    \n",
    "    G = omega_e*(v + 1/2) - omega_e_x_e*(v + 1/2)**2 + omega_e_y_e*(v + 1/2)**3\n",
    "    F = B_v*N*(N + 1) - D_v*N**2*(N + 1)**2\n",
    "    \n",
    "    return T_e + G + F   "
   ]
  },
  {
   "cell_type": "code",
   "execution_count": 3,
   "metadata": {},
   "outputs": [],
   "source": [
    "def BH_ene_A(v, N):\n",
    "    # 分子定数 (NIST Chemistry webbook)\n",
    "    # Molecular constants (NIST Chemistry webbook)\n",
    "    # https://webbook.nist.gov/chemistry/\n",
    "    T_e = 23135.8\n",
    "    omega_e = 2250.9\n",
    "    omega_e_x_e = 56.66\n",
    "    omega_e_y_e = -15.83\n",
    "    B_e = 12.295\n",
    "    alpha_e = 0.8346\n",
    "    D_e = 0.001451\n",
    "    beta_e = 0\n",
    "    \n",
    "    B_v = B_e - alpha_e*(v + 1/2)\n",
    "    D_v = D_e - beta_e*(v + 1/2)\n",
    "    \n",
    "    G = omega_e*(v + 1/2) - omega_e_x_e*(v + 1/2)**2 + omega_e_y_e*(v + 1/2)**3\n",
    "    F = B_v*N*(N + 1) - D_v*N**2*(N + 1)**2\n",
    "        \n",
    "    return T_e + G + F   "
   ]
  },
  {
   "cell_type": "markdown",
   "metadata": {},
   "source": [
    "<h4>空気の屈折率, wl (nm) (理科年表)</h4>"
   ]
  },
  {
   "cell_type": "code",
   "execution_count": 4,
   "metadata": {},
   "outputs": [],
   "source": [
    "def n_air(wl):\n",
    "    wl *= 1e3 # (um)\n",
    "    tmp = 6432.8 + 2949810/(146 - 1/wl**2) + 25540/(41 - 1/wl**2)\n",
    "    \n",
    "    return tmp*1e-8 + 1"
   ]
  },
  {
   "cell_type": "markdown",
   "metadata": {},
   "source": [
    "<h4>A係数 (Luh, JMS (1983), Tab.XII)</h4>"
   ]
  },
  {
   "cell_type": "code",
   "execution_count": 5,
   "metadata": {},
   "outputs": [],
   "source": [
    "def A(v, N2, N1):\n",
    "    \n",
    "    # 振動まで分けたA係数 (s^-1) \n",
    "    A_vib = 7.2356e-6*np.array([0.16135e13, 0.13678e13, 0.10345e13])    \n",
    "    \n",
    "    # ヘンル=ロンドン因子\n",
    "    if N2 - N1 == -1: # P枝\n",
    "        HLF = N2/2\n",
    "    elif N2 - N1 == 0: # Q枝\n",
    "        HLF = (2*N2 + 1)/2\n",
    "    elif N2 - N1 == 1: # R枝\n",
    "        HLF = (N2 + 1)/2\n",
    "    \n",
    "    return A_vib[v]*HLF/(2*N2 + 1)"
   ]
  },
  {
   "cell_type": "markdown",
   "metadata": {},
   "source": [
    "<h4>輝線形状</h4>"
   ]
  },
  {
   "cell_type": "code",
   "execution_count": 6,
   "metadata": {},
   "outputs": [],
   "source": [
    "def line_prof(x, wl, w_inst, T):\n",
    "\n",
    "    # ドップラー幅\n",
    "    K2eV = 8.617e-5\n",
    "    M_BH = 11.81\n",
    "    w_D = 7.72e-5*wl*np.sqrt(T*K2eV/M_BH)\n",
    "\n",
    "    # 線幅\n",
    "    w = np.sqrt(w_D**2 + w_inst**2)\n",
    "    \n",
    "    # 標準偏差\n",
    "    sigma = w/(2*np.sqrt(2*np.log(2)))\n",
    "    \n",
    "    return 1/(np.sqrt(2*np.pi)*sigma)*np.exp(-(x - wl)**2/(2*sigma**2))"
   ]
  },
  {
   "cell_type": "markdown",
   "metadata": {},
   "source": [
    "<h4>A-X帯スペクトル計算</h4>"
   ]
  },
  {
   "cell_type": "code",
   "execution_count": 7,
   "metadata": {},
   "outputs": [],
   "source": [
    "def BH_spec(x, C, T_rot, w_inst, T_tra, branch):\n",
    "    # 振動回転準位の範囲\n",
    "    v_min = 0\n",
    "    v_max = 2\n",
    "    N2_min = 1\n",
    "    N2_max = 22\n",
    "        \n",
    "    # 変換係数\n",
    "    K2wn = 0.695\n",
    "    wn2Hz = constants.c*1e2\n",
    "\n",
    "    # 発光強度\n",
    "    int = 0\n",
    "    \n",
    "    # 0-0帯 波長 (Fernando, JMS (1991))\n",
    "    v00_wn = pd.read_csv(r'./11BH_wl_Fernando/11BH_v00.csv')\n",
    "    v00_wl = 1e7/v00_wn/n_air(1e7/v00_wn)\n",
    "            \n",
    "    for v in range(v_min, v_max + 1):\n",
    "        for N2 in range(N2_min, N2_max + 1):\n",
    "            # PQR枝\n",
    "            if branch == 'P':\n",
    "                N1 = N2 + 1\n",
    "                wl = v00_wl['P'].to_numpy()\n",
    "            elif branch == 'Q':\n",
    "                N1 = N2\n",
    "                wl = v00_wl['Q'].to_numpy()\n",
    "            elif branch == 'R':\n",
    "                N1 = N2 - 1\n",
    "                wl = v00_wl['R'].to_numpy()\n",
    "            \n",
    "            # 上準位密度, C = const.\n",
    "            del_G = BH_ene_A(v, 0) - BH_ene_A(0, 0)\n",
    "            del_F = BH_ene_A(v, N2) - BH_ene_A(v, 1)\n",
    "            g_as = 8 # B:3/2, H:1/2\n",
    "            n_prime = C*g_as*(2*N2 + 1)*np.exp(-del_F/(T_rot*K2wn))\n",
    "            \n",
    "            # 放射率\n",
    "            nu = constants.c/(wl[N2]*1e-9)          \n",
    "            int += constants.h*nu/(4*np.pi)*n_prime*A(v, N2, N1)*line_prof(x, wl[N2], w_inst, T_tra)\n",
    "    \n",
    "    return int"
   ]
  },
  {
   "cell_type": "markdown",
   "metadata": {},
   "source": [
    "<h4>スペクトルフィッティング関数</h4>"
   ]
  },
  {
   "cell_type": "code",
   "execution_count": 8,
   "metadata": {},
   "outputs": [],
   "source": [
    "def BH_spec_fit(x, C, T_rot, dx, w_inst, base, I_R7, I_R8):\n",
    "    wl_R7 = 433.6477624402892 # 1-1, R7\n",
    "    wl_R8 = 433.3350058444114 # 1-1, R8\n",
    "    T_tra = 0\n",
    "    \n",
    "    return 1e8*BH_spec(x + dx, C, T_rot, w_inst, T_tra, 'Q') + I_R7*line_prof(x + dx, wl_R7, w_inst, T_tra) + I_R8*line_prof(x + dx, wl_R8, w_inst, T_tra) + base"
   ]
  },
  {
   "cell_type": "code",
   "execution_count": 9,
   "metadata": {},
   "outputs": [
    {
     "data": {
      "text/plain": [
       "[<matplotlib.lines.Line2D at 0x1c0a901c9e0>]"
      ]
     },
     "execution_count": 9,
     "metadata": {},
     "output_type": "execute_result"
    },
    {
     "data": {
      "image/png": "[encoded data removed]",
      "text/plain": [
       "<Figure size 800x400 with 1 Axes>"
      ]
     },
     "metadata": {},
     "output_type": "display_data"
    }
   ],
   "source": [
    "wl_data = np.arange(430, 436, 0.002)\n",
    "\n",
    "C = 1\n",
    "T_rot = 4000\n",
    "w_inst = 0.025\n",
    "T_tra = 0\n",
    "I_R7 = 1e-3\n",
    "I_R8 = 1e-3\n",
    "\n",
    "int_P = BH_spec(wl_data, C, T_rot, w_inst, T_tra, 'P')\n",
    "int_Q = BH_spec(wl_data, C, T_rot, w_inst, T_tra, 'Q')\n",
    "int_R = BH_spec(wl_data, C, T_rot, w_inst, T_tra, 'R')\n",
    "int_fit = BH_spec_fit(wl_data, C, T_rot, 0, w_inst, 0, I_R7, I_R8)\n",
    "\n",
    "# グラフ (視線範囲は適当なので要調整)\n",
    "fig = plt.figure(figsize=(8, 4))\n",
    "ax = fig.add_subplot()\n",
    "ax.minorticks_on()\n",
    "ax.set_xlim(433, 434)\n",
    "ax.set_xlabel('wavelength [nm]')\n",
    "ax.set_ylabel('intensity [arb. units]')\n",
    "ax.set_title('BH A-X band spectrum')\n",
    "ax.plot(wl_data, int_P, color='red', lw=0.2)\n",
    "ax.plot(wl_data, int_Q, color='blue', lw=0.2)\n",
    "ax.plot(wl_data, int_R, color='green', lw=0.2)\n",
    "ax.plot(wl_data, int_fit, color='k', lw=0.2)\n"
   ]
  },
  {
   "cell_type": "code",
   "execution_count": null,
   "metadata": {},
   "outputs": [],
   "source": []
  }
 ],
 "metadata": {
  "kernelspec": {
   "display_name": "py312",
   "language": "python",
   "name": "python3"
  },
  "language_info": {
   "codemirror_mode": {
    "name": "ipython",
    "version": 3
   },
   "file_extension": ".py",
   "mimetype": "text/x-python",
   "name": "python",
   "nbconvert_exporter": "python",
   "pygments_lexer": "ipython3",
   "version": "3.12.8"
  }
 },
 "nbformat": 4,
 "nbformat_minor": 2
}
