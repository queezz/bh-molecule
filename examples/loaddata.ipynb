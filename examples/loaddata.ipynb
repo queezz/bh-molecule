{
 "cells": [
  {
   "cell_type": "code",
   "execution_count": null,
   "id": "b9f1d496",
   "metadata": {},
   "outputs": [],
   "source": [
    "import numpy as np\n",
    "import matplotlib.pyplot as plt\n",
    "from bh_molecule.instruments.vis133m import Vis133M\n",
    "import pandas as pd\n",
    "from astropy.io import fits"
   ]
  },
  {
   "cell_type": "code",
   "execution_count": null,
   "id": "23b15894",
   "metadata": {},
   "outputs": [],
   "source": [
    "FITS = './133mVis_169626.fits'\n",
    "wavecal_csv = './133mVis_wavcal.csv'\n",
    "s26 = Vis133M(FITS,wavecal_csv)\n",
    "s26.set_scale(0.0001837)\n",
    "s26.set_dark(frame=49, channel=43)\n",
    "s26.set_time_linspace(0, 10)"
   ]
  },
  {
   "cell_type": "code",
   "execution_count": null,
   "id": "1b43c5b5",
   "metadata": {},
   "outputs": [],
   "source": [
    "s26.plot_pixel_range(456,642)"
   ]
  },
  {
   "cell_type": "code",
   "execution_count": null,
   "id": "c7959535",
   "metadata": {},
   "outputs": [],
   "source": [
    "s26.plot_band_map((433.9, 435))"
   ]
  },
  {
   "cell_type": "code",
   "execution_count": null,
   "id": "e3724d2d",
   "metadata": {},
   "outputs": [],
   "source": [
    "fig = s26.plot_spectrum_plotly(38, 36)\n",
    "fig.show()"
   ]
  }
 ],
 "metadata": {
  "kernelspec": {
   "display_name": "bh-molecule",
   "language": "python",
   "name": "python3"
  },
  "language_info": {
   "codemirror_mode": {
    "name": "ipython",
    "version": 3
   },
   "file_extension": ".py",
   "mimetype": "text/x-python",
   "name": "python",
   "nbconvert_exporter": "python",
   "pygments_lexer": "ipython3",
   "version": "3.12.11"
  }
 },
 "nbformat": 4,
 "nbformat_minor": 5
}
